{
 "cells": [
  {
   "cell_type": "markdown",
   "metadata": {},
   "source": [
    "# Text Classification on Boston Traffic Complaints\n",
    "\n",
    "*A classification technique to predict text data and model semantic categories*\n",
    "\n",
    "*Authors:* Ketul Patel, Harsh Nisar\n",
    "\n",
    "\n"
   ]
  },
  {
   "cell_type": "markdown",
   "metadata": {},
   "source": [
    "## Objective\n",
    "\n",
    "The objective of this project is to do text classification on a dataset of complaints about traffic conditions to the city of Boston. The dataset we use can be found here: https://data.boston.gov/dataset/vision-zero-entry\n",
    "\n",
    "To reach this objective, there are two main steps we will perform:\n",
    "\n",
    "1. Predict the type of complaint (“REQUESTTYPE”) from the complaint text.\n",
    "2. Strategize a better categorization of the data into semantic categories.\n",
    "\n"
   ]
  },
  {
   "cell_type": "markdown",
   "metadata": {},
   "source": [
    "## Technique Summary\n",
    "\n",
    "### Step 1: Data Preparation & Preprocessing\n",
    "\n",
    "Basic data import and preprocessing techniques, with the following additional steps:\n",
    "\n",
    "- Clean up the target label REQUESTTYPE\n",
    "- Remove duplicates\n",
    "- Visualize class distributions\n",
    "- Split to training and test dataset\n",
    "\n",
    "\n",
    "### Step 2: Bag-of-Word Models\n",
    "\n",
    "Run a baseline multi-class classification model using a bag-of-word approach, followed by :\n",
    "\n",
    "- Several BOW models attempts with tuned parameters\n",
    "- Macro f1-score report\n",
    "- Confusion matrix\n",
    "- Interpretation on modeling mistakes.\n",
    "\n",
    "### Step 3: N-Gram-based Models\n",
    "\n",
    "Improve the model using more complex text features, including n-grams, character n-grams and possibly domain-specific features.\n",
    "\n",
    "- N-gram count vectorizer\n",
    "- Tfidf transformation\n",
    "- Normalization with lemmatization\n",
    "- Normalization with stemming\n",
    "\n",
    "### Step 4: Result Visualizations\n",
    "\n",
    "Visualize results of the tuned model:\n",
    "\n",
    "- Classification results\n",
    "- Tuned model visualization\n",
    "- Confusion matrix\n",
    "- Important feature plots\n",
    "- Example mistakes\n",
    "\n",
    "### Step 5: Clustering Techniques\n",
    "\n",
    "Apply the following techniques to the dataset:\n",
    "\n",
    "- LDA\n",
    "- NMF\n",
    "- K-Means Then find clusters or topics that match well with some of the ground truth labels. Use ARI to compare the methods and visualize topics and clusters.\n",
    "\n",
    "### Step 6: Improved Classification Techniques\n",
    "\n",
    "Here are some steps to improve the text model:\n",
    "\n",
    "- Improve the class definition for REQUESTTYPE by using the results of the clustering and results of the previous classification model.\n",
    "- Re-assign labels using either the results of clustering or using keywords that you found during data exploration.\n",
    "- Deal with large “other” category by applying topic modeling and clustering techniques.\n",
    "- Report accuracy using macro average f1 score.\n",
    "\n",
    "### Step 7: Doc2Vec Models\n",
    "\n",
    "Use a word embedding representation like word2vec for step 3 and or step 6:\n",
    "\n",
    "- Read and preprocess text\n",
    "- Train model\n",
    "- Assess model\n",
    "- Test model\n",
    "\n",
    "### Step 8: Visualizing Complaints in Boston Map\n",
    "\n",
    "Visualize the geographic distribution of complaints using:\n",
    "\n",
    "- Scatterplot\n",
    "- Heatmap"
   ]
  },
  {
   "cell_type": "markdown",
   "metadata": {},
   "source": [
    "You can find the data here: https://data.boston.gov/dataset/vision-zero-entry"
   ]
  },
  {
   "cell_type": "markdown",
   "metadata": {},
   "source": [
    "# Main Analysis\n",
    "\n",
    "\n",
    "\n",
    "## Step 1: Data Preparation & Preprocessing\n",
    "\n",
    "Steps: Load the data, visualize the class distribution. Clean up the target labels. Some categories have been arbitrarily split and need to be consolidated.\n",
    "\n",
    "\n",
    "### Load data"
   ]
  },
  {
   "cell_type": "code",
   "execution_count": 24,
   "metadata": {},
   "outputs": [],
   "source": [
    "# Add your code for task 1 here. You may use multiple cells. \n",
    "\n",
    "%matplotlib inline\n",
    "import numpy as np\n",
    "import pandas as pd\n",
    "import matplotlib.pyplot as plt\n",
    "import matplotlib.pylab as pylab\n",
    "import time\n",
    "#import shapely\n",
    "#import geopandas as gpd\n",
    "from scipy import ndimage\n",
    "from pandas.io.gbq import read_gbq\n",
    "plt.rcParams[\"figure.dpi\"] = 100\n",
    "pylab.rcParams['figure.figsize'] = 8, 6\n",
    "np.set_printoptions(precision=3, suppress=True)"
   ]
  },
  {
   "cell_type": "code",
   "execution_count": 25,
   "metadata": {},
   "outputs": [
    {
     "name": "stdout",
     "output_type": "stream",
     "text": [
      "(9370, 11)\n"
     ]
    },
    {
     "data": {
      "text/html": [
       "<div>\n",
       "<style scoped>\n",
       "    .dataframe tbody tr th:only-of-type {\n",
       "        vertical-align: middle;\n",
       "    }\n",
       "\n",
       "    .dataframe tbody tr th {\n",
       "        vertical-align: top;\n",
       "    }\n",
       "\n",
       "    .dataframe thead th {\n",
       "        text-align: right;\n",
       "    }\n",
       "</style>\n",
       "<table border=\"1\" class=\"dataframe\">\n",
       "  <thead>\n",
       "    <tr style=\"text-align: right;\">\n",
       "      <th></th>\n",
       "      <th>X</th>\n",
       "      <th>Y</th>\n",
       "      <th>OBJECTID</th>\n",
       "      <th>GLOBALID</th>\n",
       "      <th>REQUESTID</th>\n",
       "      <th>REQUESTTYPE</th>\n",
       "      <th>REQUESTDATE</th>\n",
       "      <th>STATUS</th>\n",
       "      <th>STREETSEGID</th>\n",
       "      <th>COMMENTS</th>\n",
       "      <th>USERTYPE</th>\n",
       "    </tr>\n",
       "  </thead>\n",
       "  <tbody>\n",
       "    <tr>\n",
       "      <th>0</th>\n",
       "      <td>-71.058698</td>\n",
       "      <td>42.343489</td>\n",
       "      <td>14807</td>\n",
       "      <td>NaN</td>\n",
       "      <td>14807.0</td>\n",
       "      <td>bike facilities don't exist or need improvement</td>\n",
       "      <td>2016-01-19T14:43:50.000Z</td>\n",
       "      <td>Unassigned</td>\n",
       "      <td>0</td>\n",
       "      <td>Broadway Bridge is wide &amp; off highway ramps. V...</td>\n",
       "      <td>bikes</td>\n",
       "    </tr>\n",
       "    <tr>\n",
       "      <th>1</th>\n",
       "      <td>-71.054144</td>\n",
       "      <td>42.354168</td>\n",
       "      <td>14808</td>\n",
       "      <td>NaN</td>\n",
       "      <td>14808.0</td>\n",
       "      <td>of something that is not listed here</td>\n",
       "      <td>2016-01-19T14:48:45.000Z</td>\n",
       "      <td>Unassigned</td>\n",
       "      <td>0</td>\n",
       "      <td>This intersection is dangerous. Cars don't fol...</td>\n",
       "      <td>bikes</td>\n",
       "    </tr>\n",
       "    <tr>\n",
       "      <th>2</th>\n",
       "      <td>-71.099480</td>\n",
       "      <td>42.339384</td>\n",
       "      <td>14809</td>\n",
       "      <td>NaN</td>\n",
       "      <td>14809.0</td>\n",
       "      <td>people don't yield while going straight</td>\n",
       "      <td>2016-01-19T14:57:03.000Z</td>\n",
       "      <td>Unassigned</td>\n",
       "      <td>0</td>\n",
       "      <td>It's terrifying to walk over here. It seems li...</td>\n",
       "      <td>walks</td>\n",
       "    </tr>\n",
       "    <tr>\n",
       "      <th>3</th>\n",
       "      <td>-71.066565</td>\n",
       "      <td>42.349365</td>\n",
       "      <td>14810</td>\n",
       "      <td>NaN</td>\n",
       "      <td>14810.0</td>\n",
       "      <td>it’s hard to see / low visibility</td>\n",
       "      <td>2016-01-19T15:36:25.000Z</td>\n",
       "      <td>Unassigned</td>\n",
       "      <td>0</td>\n",
       "      <td>cars coming around the corner of this wide one...</td>\n",
       "      <td>walks</td>\n",
       "    </tr>\n",
       "    <tr>\n",
       "      <th>4</th>\n",
       "      <td>-71.114414</td>\n",
       "      <td>42.301993</td>\n",
       "      <td>14811</td>\n",
       "      <td>NaN</td>\n",
       "      <td>14811.0</td>\n",
       "      <td>people don't yield while turning</td>\n",
       "      <td>2016-01-19T21:26:54.000Z</td>\n",
       "      <td>Unassigned</td>\n",
       "      <td>0</td>\n",
       "      <td>as you come off the bike path, it's unclear ho...</td>\n",
       "      <td>bikes</td>\n",
       "    </tr>\n",
       "  </tbody>\n",
       "</table>\n",
       "</div>"
      ],
      "text/plain": [
       "           X          Y  OBJECTID  GLOBALID  REQUESTID  \\\n",
       "0 -71.058698  42.343489     14807       NaN    14807.0   \n",
       "1 -71.054144  42.354168     14808       NaN    14808.0   \n",
       "2 -71.099480  42.339384     14809       NaN    14809.0   \n",
       "3 -71.066565  42.349365     14810       NaN    14810.0   \n",
       "4 -71.114414  42.301993     14811       NaN    14811.0   \n",
       "\n",
       "                                       REQUESTTYPE               REQUESTDATE  \\\n",
       "0  bike facilities don't exist or need improvement  2016-01-19T14:43:50.000Z   \n",
       "1             of something that is not listed here  2016-01-19T14:48:45.000Z   \n",
       "2          people don't yield while going straight  2016-01-19T14:57:03.000Z   \n",
       "3                it’s hard to see / low visibility  2016-01-19T15:36:25.000Z   \n",
       "4                 people don't yield while turning  2016-01-19T21:26:54.000Z   \n",
       "\n",
       "       STATUS  STREETSEGID                                           COMMENTS  \\\n",
       "0  Unassigned            0  Broadway Bridge is wide & off highway ramps. V...   \n",
       "1  Unassigned            0  This intersection is dangerous. Cars don't fol...   \n",
       "2  Unassigned            0  It's terrifying to walk over here. It seems li...   \n",
       "3  Unassigned            0  cars coming around the corner of this wide one...   \n",
       "4  Unassigned            0  as you come off the bike path, it's unclear ho...   \n",
       "\n",
       "  USERTYPE  \n",
       "0    bikes  \n",
       "1    bikes  \n",
       "2    walks  \n",
       "3    walks  \n",
       "4    bikes  "
      ]
     },
     "execution_count": 25,
     "metadata": {},
     "output_type": "execute_result"
    }
   ],
   "source": [
    "df = pd.read_csv(\"Vision_Zero_Entry.csv\")\n",
    "print(df.shape)\n",
    "df.head()"
   ]
  },
  {
   "cell_type": "code",
   "execution_count": 26,
   "metadata": {},
   "outputs": [
    {
     "data": {
      "text/plain": [
       "X              float64\n",
       "Y              float64\n",
       "OBJECTID         int64\n",
       "GLOBALID       float64\n",
       "REQUESTID      float64\n",
       "REQUESTTYPE     object\n",
       "REQUESTDATE     object\n",
       "STATUS          object\n",
       "STREETSEGID      int64\n",
       "COMMENTS        object\n",
       "USERTYPE        object\n",
       "dtype: object"
      ]
     },
     "execution_count": 26,
     "metadata": {},
     "output_type": "execute_result"
    }
   ],
   "source": [
    "# check data types\n",
    "df.dtypes"
   ]
  },
  {
   "cell_type": "markdown",
   "metadata": {},
   "source": [
    "### Clean up the target label REQUESTTYPE"
   ]
  },
  {
   "cell_type": "code",
   "execution_count": 27,
   "metadata": {},
   "outputs": [
    {
     "data": {
      "text/plain": [
       "array(['\" src=\"images/01 - Not enough time to cross.png\"></span>&nbsp;there\\'s not enough time to cross the street',\n",
       "       '\" src=\"images/02 - Wait is too long.png\"></span>&nbsp;the wait for the \"Walk\" signal is too long',\n",
       "       '\" src=\"images/06 - Speeding.png\"></span>&nbsp;people speed',\n",
       "       '\" src=\"images/10 - Hard to see.png\"></span>&nbsp;it\\xe2\\x80\\x99s hard to see / low visibility',\n",
       "       '\" src=\"images/11 - Sidewalk issue.png\"></span>&nbsp;sidewalks/ramps don\\'t exist or need improvement',\n",
       "       '\" src=\"images/12 - Bike facility issue.png\"></span>&nbsp;the roadway surface needs improvement',\n",
       "       '\" src=\"images/14 - Other issue.png\"></span>&nbsp;of something that is not listed here',\n",
       "       \"bike facilities don't exist or need improvement\",\n",
       "       \"it's too far / too many lanes to cross\",\n",
       "       'it\\xe2\\x80\\x99s hard for people to see each other',\n",
       "       'it\\xe2\\x80\\x99s hard to see / low visibility',\n",
       "       'of something that is not listed here',\n",
       "       'people are not given enough time to cross the street',\n",
       "       'people cross away from the crosswalks',\n",
       "       \"people don't yield while going straight\",\n",
       "       \"people don't yield while turning\",\n",
       "       'people double park their vehicles',\n",
       "       'people have to cross too many lanes / too far',\n",
       "       'people have to wait too long for the \"Walk\" signal',\n",
       "       'people run red lights / stop signs', 'people speed',\n",
       "       \"sidewalks/ramps don't exist or need improvement\",\n",
       "       'the roadway surface needs improvement',\n",
       "       'the roadway surface needs maintenance',\n",
       "       'the wait for the \"Walk\" signal is too long',\n",
       "       'there are no bike facilities or they need maintenance',\n",
       "       'there are no sidewalks or they need maintenance',\n",
       "       \"there's not enough time to cross the street\"], dtype=object)"
      ]
     },
     "execution_count": 27,
     "metadata": {},
     "output_type": "execute_result"
    }
   ],
   "source": [
    "# original version:\n",
    "np.unique(df['REQUESTTYPE'])"
   ]
  },
  {
   "cell_type": "code",
   "execution_count": 28,
   "metadata": {},
   "outputs": [
    {
     "name": "stderr",
     "output_type": "stream",
     "text": [
      "C:\\Users\\ketul\\Anaconda2\\lib\\site-packages\\ipykernel_launcher.py:4: SettingWithCopyWarning: \n",
      "A value is trying to be set on a copy of a slice from a DataFrame\n",
      "\n",
      "See the caveats in the documentation: http://pandas.pydata.org/pandas-docs/stable/indexing.html#indexing-view-versus-copy\n",
      "  after removing the cwd from sys.path.\n"
     ]
    },
    {
     "name": "stdout",
     "output_type": "stream",
     "text": [
      "bike facilities don't exist or need improvement\n",
      "it's too far / too many lanes to cross\n",
      "it’s hard for people to see each other\n",
      "it’s hard to see / low visibility\n",
      "of something that is not listed here\n",
      "people are not given enough time to cross the street\n",
      "people cross away from the crosswalks\n",
      "people don't yield while going straight\n",
      "people don't yield while turning\n",
      "people double park their vehicles\n",
      "people have to cross too many lanes / too far\n",
      "people have to wait too long for the \"Walk\" signal\n",
      "people run red lights / stop signs\n",
      "people speed\n",
      "sidewalks/ramps don't exist or need improvement\n",
      "the roadway surface needs improvement\n",
      "the roadway surface needs maintenance\n",
      "the wait for the \"Walk\" signal is too long\n",
      "there are no bike facilities or they need maintenance\n",
      "there are no sidewalks or they need maintenance\n",
      "there's not enough time to cross the street\n"
     ]
    }
   ],
   "source": [
    "# clean version:\n",
    "for ind, word in enumerate(df['REQUESTTYPE']):\n",
    "    if 'src=\"images' in word:\n",
    "        df['REQUESTTYPE'][ind] = word[word.index('&nbsp;')+6:]\n",
    "\n",
    "for word in np.unique(df['REQUESTTYPE']):\n",
    "    print(word)"
   ]
  },
  {
   "cell_type": "code",
   "execution_count": 132,
   "metadata": {},
   "outputs": [],
   "source": []
  },
  {
   "cell_type": "markdown",
   "metadata": {},
   "source": [
    "### Remove duplicates"
   ]
  },
  {
   "cell_type": "markdown",
   "metadata": {},
   "source": [
    "In removing the duplicates, we'll look at all data and pay attention carefully at REQUESTTYPE, COMMENTS, and USERTYPE columns."
   ]
  },
  {
   "cell_type": "code",
   "execution_count": 29,
   "metadata": {},
   "outputs": [
    {
     "data": {
      "text/plain": [
       "(7273, 11)"
      ]
     },
     "execution_count": 29,
     "metadata": {},
     "output_type": "execute_result"
    }
   ],
   "source": [
    "df['is_duplicated'] = df.duplicated(['REQUESTTYPE','COMMENTS','USERTYPE'])               \n",
    "df = df.loc[df['is_duplicated'] == False]                       \n",
    "df = df.drop([\"is_duplicated\"], axis = 1)                     \n",
    "df.shape         "
   ]
  },
  {
   "cell_type": "markdown",
   "metadata": {},
   "source": [
    "### Visualize class distributions"
   ]
  },
  {
   "cell_type": "code",
   "execution_count": 30,
   "metadata": {},
   "outputs": [
    {
     "data": {
      "text/plain": [
       "Counter({\"bike facilities don't exist or need improvement\": 750,\n",
       "         \"it's too far / too many lanes to cross\": 96,\n",
       "         'it\\xe2\\x80\\x99s hard for people to see each other': 27,\n",
       "         'it\\xe2\\x80\\x99s hard to see / low visibility': 428,\n",
       "         'of something that is not listed here': 1592,\n",
       "         'people are not given enough time to cross the street': 10,\n",
       "         'people cross away from the crosswalks': 275,\n",
       "         \"people don't yield while going straight\": 286,\n",
       "         \"people don't yield while turning\": 491,\n",
       "         'people double park their vehicles': 468,\n",
       "         'people have to cross too many lanes / too far': 27,\n",
       "         'people have to wait too long for the \"Walk\" signal': 31,\n",
       "         'people run red lights / stop signs': 729,\n",
       "         'people speed': 930,\n",
       "         \"sidewalks/ramps don't exist or need improvement\": 334,\n",
       "         'the roadway surface needs improvement': 233,\n",
       "         'the roadway surface needs maintenance': 35,\n",
       "         'the wait for the \"Walk\" signal is too long': 220,\n",
       "         'there are no bike facilities or they need maintenance': 124,\n",
       "         'there are no sidewalks or they need maintenance': 39,\n",
       "         \"there's not enough time to cross the street\": 148})"
      ]
     },
     "execution_count": 30,
     "metadata": {},
     "output_type": "execute_result"
    }
   ],
   "source": [
    "from collections import Counter\n",
    "\n",
    "cnt = Counter()\n",
    "for word in df['REQUESTTYPE'].as_matrix():\n",
    "    cnt[word] += 1\n",
    "cnt"
   ]
  },
  {
   "cell_type": "code",
   "execution_count": 39,
   "metadata": {},
   "outputs": [
    {
     "data": {
      "image/png": "[encoded data removed]",
      "text/plain": [
       "<matplotlib.figure.Figure at 0xe622550>"
      ]
     },
     "metadata": {},
     "output_type": "display_data"
    }
   ],
   "source": [
    "labels, values = zip(*Counter(df['REQUESTTYPE']).items())\n",
    "inds = np.argsort(values)\n",
    "sorted_values = []\n",
    "sorted_labels = []\n",
    "for i in inds:\n",
    "    sorted_values.append(values[i])\n",
    "    \n",
    "    sorted_labels.append(labels1)\n",
    "labels = tuple(sorted_labels)\n",
    "values = tuple(sorted_values)\n",
    "indexes = np.arange(len(labels))\n",
    "width = 1\n",
    "plt.barh(indexes, values, width, color = \"orange\", edgecolor='white')\n",
    "\n",
    "plt.show()\n"
   ]
  },
  {
   "cell_type": "markdown",
   "metadata": {},
   "source": [
    "### Split to training and test dataset"
   ]
  },
  {
   "cell_type": "code",
   "execution_count": 40,
   "metadata": {},
   "outputs": [],
   "source": [
    "df1 = df.copy()\n",
    "df1 = df1[~df1['COMMENTS'].isnull()]\n",
    "y1 = df1['REQUESTTYPE']\n",
    "X1 = df1['COMMENTS']"
   ]
  },
  {
   "cell_type": "code",
   "execution_count": 41,
   "metadata": {},
   "outputs": [],
   "source": [
    "from sklearn.model_selection import train_test_split\n",
    "X_train, X_test, y_train, y_test = train_test_split(X1, y1)"
   ]
  },
  {
   "cell_type": "markdown",
   "metadata": {},
   "source": [
    "## Step 2: Bag-of-Word Models"
   ]
  },
  {
   "cell_type": "markdown",
   "metadata": {},
   "source": [
    "Steps: Run a baseline multi-class classification model using a bag-of-word approach, report macro f1-score (should be above .5), visualize the confusion matrix, and interpret the mistakes made by the model."
   ]
  },
  {
   "cell_type": "code",
   "execution_count": 42,
   "metadata": {},
   "outputs": [],
   "source": [
    "# Scikit import\n",
    "from sklearn.model_selection import train_test_split, cross_val_score\n",
    "from sklearn.pipeline import make_pipeline\n",
    "from sklearn.preprocessing import scale, StandardScaler\n",
    "from sklearn.feature_extraction.text import CountVectorizer, ENGLISH_STOP_WORDS\n",
    "import re"
   ]
  },
  {
   "cell_type": "code",
   "execution_count": 43,
   "metadata": {},
   "outputs": [
    {
     "name": "stdout",
     "output_type": "stream",
     "text": [
      "[u'are', u'away', u'bike', u'cross', u'crosswalks', u'don', u'double', u'each', u'enough', u'exist', u'facilities', u'far', u'for', u'from', u'given', u'going', u'hard', u'have', u'here', u'improvement', u'is', u'it', u'lanes', u'lights', u'listed', u'long', u'low', u'maintenance', u'many', u'need', u'needs', u'no', u'not', u'of', u'or', u'other', u'park', u'people', u'ramps', u'red', u'roadway', u'run', u'see', u'sidewalks', u'signal', u'signs', u'something', u'speed', u'stop', u'straight', u'street', u'surface', u'that', u'the', u'their', u'there', u'they', u'time', u'to', u'too', u'turning', u'vehicles', u'visibility', u'wait', u'walk', u'while', u'yield']\n"
     ]
    }
   ],
   "source": [
    "vect = CountVectorizer(token_pattern = r\"\\b\\w\\w+\\b\")\n",
    "vect.fit(df['REQUESTTYPE'])\n",
    "blacklist = vect.get_feature_names()\n",
    "print(blacklist)"
   ]
  },
  {
   "cell_type": "code",
   "execution_count": 44,
   "metadata": {},
   "outputs": [
    {
     "name": "stdout",
     "output_type": "stream",
     "text": [
      "Vocabulary size: 67\n",
      "Vocabulary content:\n",
      " {u'walk': 64, u'facilities': 10, u'signs': 45, u'speed': 47, u'given': 14, u'from': 13, u'to': 58, u'there': 55, u'long': 25, u'improvement': 19, u'their': 54, u'bike': 2, u'too': 59, u'maintenance': 27, u'listed': 24, u'roadway': 40, u'lanes': 22, u'that': 52, u'far': 11, u'stop': 48, u'visibility': 62, u'they': 56, u'not': 32, u'going': 15, u'double': 6, u'signal': 44, u'yield': 66, u'while': 65, u'each': 7, u'straight': 49, u'are': 0, u'people': 37, u'is': 20, u'hard': 16, u'it': 21, u'surface': 51, u'see': 42, u'street': 50, u'exist': 9, u'something': 46, u'have': 17, u'need': 29, u'turning': 60, u'crosswalks': 4, u'needs': 30, u'for': 12, u'no': 31, u'away': 1, u'sidewalks': 43, u'cross': 3, u'lights': 23, u'enough': 8, u'other': 35, u'low': 26, u'red': 39, u'run': 41, u'park': 36, u'of': 33, u'ramps': 38, u'here': 18, u'wait': 63, u'don': 5, u'many': 28, u'vehicles': 61, u'time': 57, u'the': 53, u'or': 34}\n"
     ]
    }
   ],
   "source": [
    "print(\"Vocabulary size: {}\".format(len(vect.vocabulary_)))\n",
    "print(\"Vocabulary content:\\n {}\".format(vect.vocabulary_))"
   ]
  },
  {
   "cell_type": "code",
   "execution_count": 45,
   "metadata": {},
   "outputs": [
    {
     "name": "stdout",
     "output_type": "stream",
     "text": [
      "Number of features: 67\n",
      "All features:\n",
      "[u'are', u'away', u'bike', u'cross', u'crosswalks', u'don', u'double', u'each', u'enough', u'exist', u'facilities', u'far', u'for', u'from', u'given', u'going', u'hard', u'have', u'here', u'improvement', u'is', u'it', u'lanes', u'lights', u'listed', u'long', u'low', u'maintenance', u'many', u'need', u'needs', u'no', u'not', u'of', u'or', u'other', u'park', u'people', u'ramps', u'red', u'roadway', u'run', u'see', u'sidewalks', u'signal', u'signs', u'something', u'speed', u'stop', u'straight', u'street', u'surface', u'that', u'the', u'their', u'there', u'they', u'time', u'to', u'too', u'turning', u'vehicles', u'visibility', u'wait', u'walk', u'while', u'yield']\n"
     ]
    }
   ],
   "source": [
    "feature_names = vect.get_feature_names()\n",
    "print(\"Number of features: {}\".format(len(feature_names)))\n",
    "print(\"All features:\\n{}\".format(feature_names[:]))"
   ]
  },
  {
   "cell_type": "markdown",
   "metadata": {},
   "source": [
    "Vocabulary size and the number of feature names are consistent."
   ]
  },
  {
   "cell_type": "code",
   "execution_count": 46,
   "metadata": {},
   "outputs": [],
   "source": [
    "from sklearn.linear_model import LogisticRegression, LogisticRegressionCV\n",
    "from sklearn.svm import SVC, LinearSVC\n",
    "from sklearn.naive_bayes import GaussianNB, MultinomialNB, BernoulliNB\n",
    "\n",
    "\"\"\"\n",
    "Best classifiers as per the internet for text classification\n",
    "\n",
    "BernoulliNB\n",
    "GaussianNB\n",
    "MultinomialNB\n",
    "\n",
    "LinearSVC\n",
    "PolynomialSVC\n",
    "RbfSVC\n",
    "NuSVC \n",
    "\n",
    "TfidfTransformer used in pipeline\n",
    "\"\"\"\n",
    "def standard_approach(X, y, \n",
    "                      vectorizer = CountVectorizer(token_pattern = r\"\\b\\w\\w+\\b\"),\n",
    "                      classifier = LogisticRegression(),\n",
    "                      scaling = None):\n",
    "    if scaling is not None:\n",
    "        pipe = make_pipeline(vectorizer, scaling, classifier)\n",
    "    else:\n",
    "        pipe = make_pipeline(vectorizer, classifier)\n",
    "        \n",
    "    scores = cross_val_score(pipe, X, y, cv=5, scoring = 'f1_macro')\n",
    "    pipe.fit(X_train, y_train)\n",
    "    y_pred = pipe.predict(X_test)\n",
    "    test = np.mean(y_pred == y_test)\n",
    "    \n",
    "    return scores, np.mean(scores), test"
   ]
  },
  {
   "cell_type": "code",
   "execution_count": 47,
   "metadata": {},
   "outputs": [
    {
     "name": "stdout",
     "output_type": "stream",
     "text": [
      "('First 5 lines of X_train:\\n\\n', 9287    Bike lanes are too close to traffic, would pre...\n",
      "9042             People disobey the no right turn on red.\n",
      "6300    some entrances/exits are 2 lanes some are 1, n...\n",
      "1223    Cars coming up Hampden run thru yellow & red l...\n",
      "5342    There is no safe biking along route 9 here or ...\n",
      "Name: COMMENTS, dtype: object, '\\n')\n",
      "('List of unique words on y_train:\\n\\n', array([\"bike facilities don't exist or need improvement\",\n",
      "       \"it's too far / too many lanes to cross\",\n",
      "       'it\\xe2\\x80\\x99s hard for people to see each other',\n",
      "       'it\\xe2\\x80\\x99s hard to see / low visibility',\n",
      "       'of something that is not listed here',\n",
      "       'people are not given enough time to cross the street',\n",
      "       'people cross away from the crosswalks',\n",
      "       \"people don't yield while going straight\",\n",
      "       \"people don't yield while turning\",\n",
      "       'people double park their vehicles',\n",
      "       'people have to cross too many lanes / too far',\n",
      "       'people have to wait too long for the \"Walk\" signal',\n",
      "       'people run red lights / stop signs', 'people speed',\n",
      "       \"sidewalks/ramps don't exist or need improvement\",\n",
      "       'the roadway surface needs improvement',\n",
      "       'the roadway surface needs maintenance',\n",
      "       'the wait for the \"Walk\" signal is too long',\n",
      "       'there are no bike facilities or they need maintenance',\n",
      "       'there are no sidewalks or they need maintenance',\n",
      "       \"there's not enough time to cross the street\"], dtype=object))\n"
     ]
    }
   ],
   "source": [
    "print('First 5 lines of X_train:\\n\\n',X_train[:5],'\\n')\n",
    "print('List of unique words on y_train:\\n\\n',np.unique(y_train))"
   ]
  },
  {
   "cell_type": "code",
   "execution_count": 48,
   "metadata": {},
   "outputs": [
    {
     "name": "stdout",
     "output_type": "stream",
     "text": [
      "Using f-1 macro score:\n",
      "\n"
     ]
    },
    {
     "name": "stderr",
     "output_type": "stream",
     "text": [
      "C:\\Users\\ketul\\Anaconda2\\lib\\site-packages\\sklearn\\metrics\\classification.py:1135: UndefinedMetricWarning: F-score is ill-defined and being set to 0.0 in labels with no predicted samples.\n",
      "  'precision', 'predicted', average, warn_for)\n"
     ]
    },
    {
     "name": "stdout",
     "output_type": "stream",
     "text": [
      "('Mean score of BernouliNB with Standard Approach:', 0.43982251802551303)\n",
      "('Mean score of MultinomialNB with Standard Approach:', 0.5185801442041043)\n",
      "('Mean score of LogisticRegression with Standard Approach:', 0.5529672767609539)\n",
      "('Mean score of LinearSVC with Standard Approach:', 0.5036051026067665)\n"
     ]
    }
   ],
   "source": [
    "names = ['BernouliNB', 'MultinomialNB', 'LogisticRegression', 'LinearSVC']\n",
    "classifiers = [BernoulliNB(), MultinomialNB(), LogisticRegression(), LinearSVC()]\n",
    "\n",
    "print('Using f-1 macro score:\\n')\n",
    "# without scaling for now\n",
    "for i in range(len(names)):\n",
    "    scores, m, t = standard_approach(X_train, y_train, classifier = classifiers[i])\n",
    "#     print(\"Mean cross val score of %s with Standard Approach:\" %names[i], m)\n",
    "    print(\"Mean score of %s with Standard Approach:\" %names[i], t)"
   ]
  },
  {
   "cell_type": "markdown",
   "metadata": {},
   "source": [
    "Based on our baseline models above, our highest performing model is Logistic Regression and we will take a look more on our scores below."
   ]
  },
  {
   "cell_type": "markdown",
   "metadata": {},
   "source": [
    "#### F-1, Precision, and Recall Scores"
   ]
  },
  {
   "cell_type": "code",
   "execution_count": 57,
   "metadata": {},
   "outputs": [
    {
     "name": "stdout",
     "output_type": "stream",
     "text": [
      "Test set predictions:\n",
      " ['of something that is not listed here'\n",
      " 'people run red lights / stop signs'\n",
      " \"sidewalks/ramps don't exist or need improvement\" ...\n",
      " 'people cross away from the crosswalks'\n",
      " \"bike facilities don't exist or need improvement\" 'people speed']\n",
      "\n",
      "Test set score: 0.55\n"
     ]
    }
   ],
   "source": [
    "from sklearn.metrics import classification_report\n",
    "\n",
    "pipe = make_pipeline(CountVectorizer(token_pattern = r\"\\b\\w\\w+\\b\"), \n",
    "                     LogisticRegression())  \n",
    " \n",
    "pipe.fit(X_train, y_train)   \n",
    "y_pred = pipe.predict(X_test)   \n",
    "print(\"Test set predictions:\\n {}\\n\".format(y_pred))    \n",
    "print(\"Test set score: {:.2f}\".format(np.mean(y_pred == y_test)))  \n"
   ]
  },
  {
   "cell_type": "code",
   "execution_count": null,
   "metadata": {},
   "outputs": [],
   "source": [
    "print(classification_report(y_test, y_pred))"
   ]
  },
  {
   "cell_type": "code",
   "execution_count": 53,
   "metadata": {},
   "outputs": [],
   "source": [
    "\n",
    "complaints_map_reindexed = {\n",
    "                0 : 'J-walking',\n",
    "                1 : 'bike facilities dont exist or need improvement',\n",
    "                2 : 'double parking',\n",
    "                3 : 'failure to yield',\n",
    "                4 : 'low visibility',\n",
    "                5 : 'other',\n",
    "                6 : 'ramps or sidewalks',\n",
    "                7 : 'roadway improvement',\n",
    "                8 : 'speeding',\n",
    "                9 : 'too far or too many lanes to cross or not enough time',\n",
    "                10 : 'wait for walk signal'\n",
    "                }"
   ]
  },
  {
   "cell_type": "markdown",
   "metadata": {},
   "source": [
    "#### Confusion Matrix"
   ]
  },
  {
   "cell_type": "code",
   "execution_count": 59,
   "metadata": {},
   "outputs": [],
   "source": [
    "from sklearn.metrics import confusion_matrix\n",
    "\n",
    "conf_arr = confusion_matrix(y_test, y_pred)"
   ]
  },
  {
   "cell_type": "code",
   "execution_count": 55,
   "metadata": {},
   "outputs": [
    {
     "data": {
      "image/png": "[encoded data removed]",
      "text/plain": [
       "<matplotlib.figure.Figure at 0xca1a400>"
      ]
     },
     "metadata": {},
     "output_type": "display_data"
    },
    {
     "name": "stdout",
     "output_type": "stream",
     "text": [
      "Complaints Index Map:\n",
      "(0, ':', 'bike facilities dont exist or need improvement')\n",
      "(1, ':', 'its too far too many lanes to cross')\n",
      "(2, ':', 'its hard for people to see each other')\n",
      "(3, ':', 'its hard to see or low visibility')\n",
      "(4, ':', 'of something that is not listed here')\n",
      "(5, ':', 'people are not given enough time to cross the street')\n",
      "(6, ':', 'people cross away from the crosswalks')\n",
      "(7, ':', 'people dont yield while going straight')\n",
      "(8, ':', 'people dont yield while turning')\n",
      "(9, ':', 'people double park their vehicles')\n",
      "(10, ':', 'people have to cross too many lanes or too far')\n",
      "(11, ':', 'people have to wait too long for the Walk signal')\n",
      "(12, ':', 'people run red lights or stop signs')\n",
      "(13, ':', 'people speed')\n",
      "(14, ':', 'sidewalks or ramps dont exist or need improvement')\n",
      "(15, ':', 'the roadway surface needs improvement')\n",
      "(16, ':', 'the roadway surface needs maintenance')\n",
      "(17, ':', 'the wait for the \"Walk\" signal is too long')\n",
      "(18, ':', 'no bike facilities or they need maintenance')\n",
      "(19, ':', 'no sidewalks or they need maintenance')\n",
      "(20, ':', 'not enough time to cross the street')\n"
     ]
    }
   ],
   "source": [
    "plt.rcParams[\"figure.dpi\"] = 100\n",
    "pylab.rcParams['figure.figsize'] = 12, 12\n",
    "\n",
    "norm_conf = []\n",
    "\n",
    "def xrange(x):\n",
    "    return iter(range(x))\n",
    "\n",
    "for i in conf_arr:\n",
    "    a = 0\n",
    "    tmp_arr = []\n",
    "    a = sum(i, 0)\n",
    "    for j in i:\n",
    "        tmp_arr.append(float(j)/float(a))\n",
    "    norm_conf.append(tmp_arr)\n",
    "\n",
    "fig = plt.figure()\n",
    "plt.clf()\n",
    "ax = fig.add_subplot(111)\n",
    "ax.set_aspect(1)\n",
    "res = ax.imshow(np.array(norm_conf), cmap=\"Blues\", interpolation='nearest')\n",
    "\n",
    "width, height = conf_arr.shape\n",
    "for x in xrange(width):\n",
    "    for y in xrange(height):\n",
    "        ax.annotate(str(conf_arr[x][y]), xy=(y, x), \n",
    "                    horizontalalignment='center',\n",
    "                    verticalalignment='center')\n",
    "\n",
    "cb = fig.colorbar(res)\n",
    "plt.xticks(range(width),)\n",
    "plt.yticks(range(height),)\n",
    "plt.show()\n",
    "\n",
    "complaints_map_origin = {\n",
    "        0 : 'bike facilities dont exist or need improvement',\n",
    "        1 : 'its too far too many lanes to cross',\n",
    "        2 : 'its hard for people to see each other',\n",
    "        3 : 'its hard to see or low visibility',\n",
    "        4 : 'of something that is not listed here',\n",
    "        5 : 'people are not given enough time to cross the street',\n",
    "        6 : 'people cross away from the crosswalks',\n",
    "        7 : 'people dont yield while going straight',\n",
    "        8 : 'people dont yield while turning',\n",
    "        9 : 'people double park their vehicles',\n",
    "        10 : 'people have to cross too many lanes or too far',\n",
    "        11 : 'people have to wait too long for the Walk signal',\n",
    "        12 : 'people run red lights or stop signs',\n",
    "        13 : 'people speed',\n",
    "        14 : 'sidewalks or ramps dont exist or need improvement',\n",
    "        15 : 'the roadway surface needs improvement',\n",
    "        16 : 'the roadway surface needs maintenance',\n",
    "        17 : 'the wait for the \"Walk\" signal is too long',\n",
    "        18 : 'no bike facilities or they need maintenance',\n",
    "        19 : 'no sidewalks or they need maintenance',\n",
    "        20 : 'not enough time to cross the street'\n",
    "        }\n",
    "        \n",
    "print('Complaints Index Map:')\n",
    "for i in complaints_map_origin:\n",
    "    print(i,\":\",complaints_map_origin[i])"
   ]
  },
  {
   "cell_type": "markdown",
   "metadata": {},
   "source": [
    "With our final score is 0.52, there are some classification mistakes from the model that can be found on the confusion matrix we plotted above. We saw that there are many digits that are misclassified, which causes the score to be very low. For instance, there are 26 digit 0's (bike facilities dont exist or need improvement) that are misclassified as 4 (of something that is not listed here). There are 22 digit 18's (failure to yield) also misclassified as digit 0 (bike facilities dont exist or need improvement). There are also many zeros in the diagonal lines, meaning we have some false segatives\n",
    "\n",
    "There are also misclassifications of 'other' digits, such as 13 of them misclassified as digit 6 (ramps or sidewalks), and 28 of them misclassified as 'bike facilities dont exist or need improvement' (class 1). Some other tendency for mistakes can also be found in digit 9 (too far or too many lanes to cross or not enough time), where 12 of them are misclassified as class 3 (failure to yield) and 5 of them as class 10 (wait for walk signal).\n"
   ]
  },
  {
   "cell_type": "markdown",
   "metadata": {},
   "source": [
    "## Step 3: N-Gram-based Models"
   ]
  },
  {
   "cell_type": "markdown",
   "metadata": {},
   "source": [
    "Steps: Improve the model using more complex text features, including n-grams, character n-grams and possibly domain-specific features."
   ]
  },
  {
   "cell_type": "code",
   "execution_count": 60,
   "metadata": {},
   "outputs": [
    {
     "name": "stderr",
     "output_type": "stream",
     "text": [
      "C:\\Users\\ketul\\Anaconda2\\lib\\site-packages\\ipykernel_launcher.py:27: SettingWithCopyWarning: \n",
      "A value is trying to be set on a copy of a slice from a DataFrame\n",
      "\n",
      "See the caveats in the documentation: http://pandas.pydata.org/pandas-docs/stable/indexing.html#indexing-view-versus-copy\n",
      "C:\\Users\\ketul\\Anaconda2\\lib\\site-packages\\ipykernel_launcher.py:28: SettingWithCopyWarning: \n",
      "A value is trying to be set on a copy of a slice from a DataFrame\n",
      "\n",
      "See the caveats in the documentation: http://pandas.pydata.org/pandas-docs/stable/indexing.html#indexing-view-versus-copy\n"
     ]
    },
    {
     "data": {
      "image/png": "[encoded data removed]",
      "text/plain": [
       "<matplotlib.figure.Figure at 0xd298eb8>"
      ]
     },
     "metadata": {},
     "output_type": "display_data"
    }
   ],
   "source": [
    "# clean version:\n",
    "\n",
    "plt.rcParams[\"figure.dpi\"] = 100\n",
    "pylab.rcParams['figure.figsize'] = 8, 3\n",
    "\n",
    "type_to_key = [0, 1, 2, 2, 3, 1, 4, 5, 5, 6, 1, 7, 5, 8, 9, 10, 10, 7, 0, 9, 1]\n",
    "complaints_map = {\n",
    "                0 : 'bike facilities dont exist or need improvement',\n",
    "                1 : 'too far or too many lanes to cross or not enough time',\n",
    "                2 : 'low visibility',\n",
    "                3 : 'other',\n",
    "                4 : 'J-walking',\n",
    "                5 : 'failure to yield',\n",
    "                6 : 'double parking',\n",
    "                7 : 'wait for walk signal',\n",
    "                8 : 'speeding',\n",
    "                9 : 'ramps or sidewalks',\n",
    "                10 : 'roadway improvement'\n",
    "                }\n",
    "\n",
    "df['code'] = df['REQUESTTYPE']\n",
    "df['y_true'] = df['REQUESTTYPE']\n",
    "df = df[~df['COMMENTS'].isnull()]\n",
    "\n",
    "\n",
    "for i, line in enumerate(np.unique(df['REQUESTTYPE'])):\n",
    "    df['code'][df['REQUESTTYPE'] == line] = complaints_map[type_to_key[i]]\n",
    "    df['y_true'][df['REQUESTTYPE'] == line] = type_to_key[i]\n",
    "\n",
    "\n",
    "y = df['code']\n",
    "X = df['COMMENTS']\n",
    "y_true = list(df['y_true'])\n",
    "\n",
    "\n",
    "labels, values = zip(*Counter(y).items())\n",
    "inds = np.argsort(values)\n",
    "sorted_values = []\n",
    "sorted_labels = []\n",
    "\n",
    "for i in inds:\n",
    "    sorted_values.append(values[i])\n",
    "    sorted_labels.append(labels[i])\n",
    "\n",
    "labels = tuple(sorted_labels)\n",
    "values = tuple(sorted_values)\n",
    "indexes = np.arange(len(labels))\n",
    "width = 1\n",
    "\n",
    "plt.barh(indexes, values, width, color = \"orange\", edgecolor='white')\n",
    "plt.yticks(indexes + width -1, labels)\n",
    "plt.show()"
   ]
  },
  {
   "cell_type": "markdown",
   "metadata": {},
   "source": [
    "Note: We just grouped by the same meaning from 21 categories down to 11."
   ]
  },
  {
   "cell_type": "markdown",
   "metadata": {},
   "source": [
    "### N-Grams Count Vectorizer"
   ]
  },
  {
   "cell_type": "code",
   "execution_count": 61,
   "metadata": {},
   "outputs": [
    {
     "name": "stdout",
     "output_type": "stream",
     "text": [
      "Vocabulary size: 6106\n",
      "('Training set CV scores:', '[0.379 0.321 0.349 0.349 0.355]', 'with mean of', '0.35054184220206985')\n",
      "Test set score: 0.55\n"
     ]
    }
   ],
   "source": [
    "# 1-gram\n",
    "\n",
    "vectorizer = CountVectorizer(token_pattern = r\"\\b\\w\\w+\\b\", ngram_range=(1, 1)).fit(X_train)\n",
    "print(\"Vocabulary size: {}\".format(len(vectorizer.vocabulary_)))\n",
    "\n",
    "pipe = make_pipeline(vectorizer, LogisticRegression())\n",
    "scores = cross_val_score(pipe, X_train, y_train, cv=5, scoring = 'f1_macro')\n",
    "print('Training set CV scores:',str(scores),'with mean of', str(np.mean(scores)))\n",
    "\n",
    "pipe.fit(X_train, y_train)\n",
    "y_pred = pipe.predict(X_test)\n",
    "print(\"Test set score: {:.2f}\".format(np.mean(y_pred == y_test)))\n",
    "\n",
    "# print(\"Vocabulary:\\n{}\".format(cv.get_feature_names()))"
   ]
  },
  {
   "cell_type": "markdown",
   "metadata": {},
   "source": [
    "As we can see, using a unigram does not improve our model because the default in vectorizer is using n=1."
   ]
  },
  {
   "cell_type": "code",
   "execution_count": 62,
   "metadata": {},
   "outputs": [
    {
     "name": "stdout",
     "output_type": "stream",
     "text": [
      "Vocabulary size: 47564\n",
      "('Training set CV scores:', '[0.352 0.303 0.313 0.298 0.324]', 'with mean of', '0.31801737167307786')\n",
      "Test set score: 0.51\n"
     ]
    }
   ],
   "source": [
    "# 2-gram\n",
    "\n",
    "vectorizer = CountVectorizer(token_pattern = r\"\\b\\w\\w+\\b\", ngram_range=(2, 2)).fit(X_train)\n",
    "print(\"Vocabulary size: {}\".format(len(vectorizer.vocabulary_)))\n",
    "\n",
    "pipe = make_pipeline(vectorizer, LogisticRegression())\n",
    "scores = cross_val_score(pipe, X_train, y_train, cv=5, scoring = 'f1_macro')\n",
    "print('Training set CV scores:',str(scores),'with mean of', str(np.mean(scores)))\n",
    "\n",
    "pipe.fit(X_train, y_train)\n",
    "y_pred = pipe.predict(X_test)\n",
    "print(\"Test set score: {:.2f}\".format(np.mean(y_pred == y_test)))\n",
    "\n",
    "# print(\"Vocabulary:\\n{}\".format(cv.get_feature_names()))"
   ]
  },
  {
   "cell_type": "code",
   "execution_count": 63,
   "metadata": {},
   "outputs": [
    {
     "name": "stdout",
     "output_type": "stream",
     "text": [
      "Vocabulary size: 54611\n",
      "('Training set CV scores:', '[0.151 0.131 0.139 0.146 0.144]', 'with mean of', '0.1421770206845113')\n",
      "Test set score: 0.34\n"
     ]
    }
   ],
   "source": [
    "# 3-gram\n",
    "\n",
    "vectorizer = CountVectorizer(token_pattern = r\"\\b\\w\\w+\\b\", stop_words=\"english\", ngram_range=(3, 3)).fit(X_train)\n",
    "print(\"Vocabulary size: {}\".format(len(vectorizer.vocabulary_)))\n",
    "\n",
    "pipe = make_pipeline(vectorizer, LogisticRegression())\n",
    "scores = cross_val_score(pipe, X_train, y_train, cv=5, scoring = 'f1_macro')\n",
    "print('Training set CV scores:',str(scores),'with mean of', str(np.mean(scores)))\n",
    "\n",
    "pipe.fit(X_train, y_train)\n",
    "y_pred = pipe.predict(X_test)\n",
    "print(\"Test set score: {:.2f}\".format(np.mean(y_pred == y_test)))\n",
    "\n",
    "# print(\"Vocabulary:\\n{}\".format(cv.get_feature_names()))"
   ]
  },
  {
   "cell_type": "markdown",
   "metadata": {},
   "source": [
    "The higher n value for n-grams we use the worse our scores would be. This makes sense because single words are usually significant enough and easier to match the count than two or three words in a document. We'll now use a pipeline to run a combination of unigrams, bigrams, and trigrams:"
   ]
  },
  {
   "cell_type": "code",
   "execution_count": 64,
   "metadata": {},
   "outputs": [
    {
     "name": "stdout",
     "output_type": "stream",
     "text": [
      "Vocabulary size: 99530\n"
     ]
    }
   ],
   "source": [
    "vectorizer = CountVectorizer(token_pattern = r\"\\b\\w\\w+\\b\", stop_words=\"english\", ngram_range=(1, 3)).fit(X_train)\n",
    "print(\"Vocabulary size: {}\".format(len(vectorizer.vocabulary_)))"
   ]
  },
  {
   "cell_type": "code",
   "execution_count": 65,
   "metadata": {},
   "outputs": [
    {
     "name": "stdout",
     "output_type": "stream",
     "text": [
      "Vocabulary size: 99530\n",
      "('Training set CV scores:', '[0.375 0.332 0.334 0.354 0.357]', 'with mean of', '0.35053523411422444')\n",
      "Test set score: 0.57\n"
     ]
    }
   ],
   "source": [
    "# using unigrams, bigrams, and trigrams\n",
    "\n",
    "vectorizer = CountVectorizer(token_pattern = r\"\\b\\w\\w+\\b\", stop_words=\"english\", ngram_range=(1, 3)).fit(X_train)\n",
    "print(\"Vocabulary size: {}\".format(len(vectorizer.vocabulary_)))\n",
    "\n",
    "pipe = make_pipeline(vectorizer, LogisticRegression())\n",
    "scores = cross_val_score(pipe, X_train, y_train, cv=5, scoring = 'f1_macro')\n",
    "print('Training set CV scores:',str(scores),'with mean of', str(np.mean(scores)))\n",
    "\n",
    "pipe.fit(X_train, y_train)\n",
    "y_pred = pipe.predict(X_test)\n",
    "print(\"Test set score: {:.2f}\".format(np.mean(y_pred == y_test)))"
   ]
  },
  {
   "cell_type": "markdown",
   "metadata": {},
   "source": [
    "Using combination of n=1,2,&3 gives us the highest f-1 score. However, we realized that running the grid search took a longer time because of the relatively large grid and the inclusion of trigrams.\n",
    "\n",
    "\n",
    "To improve our model further, we will now use grid search as follows to find best parameters, and also using LogReg for dealing with sparsity.\n"
   ]
  },
  {
   "cell_type": "markdown",
   "metadata": {},
   "source": [
    "### Tfidf Transformation\n",
    "\n",
    "We apply the frequency–inverse document frequency (tf–idf) transformation to rescale features by how informative we expect them to be. This method will allow us to give high weight to any term that appears often in a particular document, but not in many documents in the corpus. If a word appears often in a particular document, but not in very many documents, it is likely to be very descriptive of the content of that document.\n",
    "\n",
    "- tf := Term Frequency\n",
    "- df(d, t) := Number of documents containing term t\n",
    "- nd := total number of documents\n",
    "\n",
    "tfidf(t,d)=tf(t,d)∗idf(t)\n",
    "idf(t)=log1+nd1+df(d,t)+1\n",
    "\n",
    "By using TfidfTransformer, we take in the sparse matrix output produced by CountVectorizer and transforms it. We will use TfidfVectorizer, which takes in the text data and does both the bag-of-words feature extraction and the tf–idf transformation.\n"
   ]
  },
  {
   "cell_type": "code",
   "execution_count": 67,
   "metadata": {},
   "outputs": [
    {
     "data": {
      "text/plain": [
       "(array([0.31 , 0.29 , 0.319, 0.303, 0.308]),\n",
       " 0.3062044784786272,\n",
       " 0.5562950637825845)"
      ]
     },
     "execution_count": 67,
     "metadata": {},
     "output_type": "execute_result"
    }
   ],
   "source": [
    "from sklearn.feature_extraction.text import TfidfVectorizer, TfidfTransformer\n",
    "import mglearn          ##Install mglearn\n",
    "\n",
    "standard_approach(X_train, y_train, scaling=TfidfTransformer())"
   ]
  },
  {
   "cell_type": "markdown",
   "metadata": {},
   "source": [
    "We will tune the regularizatoin parameter C of LogisticRegression via cross-validation to improve our score."
   ]
  },
  {
   "cell_type": "code",
   "execution_count": 68,
   "metadata": {},
   "outputs": [
    {
     "name": "stdout",
     "output_type": "stream",
     "text": [
      "Best cross-validation score: 0.33\n",
      "Best parameters:\n",
      "{'tfidfvectorizer__ngram_range': (1, 3), 'logisticregression__C': 10}\n",
      "Test set score: 0.55\n"
     ]
    }
   ],
   "source": [
    "from sklearn.model_selection import GridSearchCV\n",
    "\n",
    "pipe = make_pipeline(TfidfVectorizer(min_df=5, token_pattern = r\"\\b\\w\\w+\\b\", stop_words=\"english\"),\n",
    "                     LogisticRegression())\n",
    "param_grid = {\"logisticregression__C\": [0.001, 0.01, 0.1, 1, 10, 100],\n",
    "\"tfidfvectorizer__ngram_range\": [(1, 1), (1, 2), (1, 3)]}\n",
    "\n",
    "grid = GridSearchCV(pipe, param_grid, cv=5, scoring = 'f1_macro')\n",
    "grid.fit(X_train, y_train)\n",
    "print(\"Best cross-validation score: {:.2f}\".format(grid.best_score_))\n",
    "print(\"Best parameters:\\n{}\".format(grid.best_params_))\n",
    "\n",
    "y_pred = grid.predict(X_test)\n",
    "print(\"Test set score: {:.2f}\".format(np.mean(y_pred == y_test)))"
   ]
  },
  {
   "cell_type": "markdown",
   "metadata": {},
   "source": [
    "It did not improve our score. Let's try just using the default token_pattern and without stop_words, see if it's improving our score. We will still tune the regularizatoin parameter C of LogisticRegression via cross-validation to improve our score."
   ]
  },
  {
   "cell_type": "code",
   "execution_count": 69,
   "metadata": {},
   "outputs": [
    {
     "name": "stdout",
     "output_type": "stream",
     "text": [
      "Best cross-validation score: 0.35\n",
      "Best parameters:\n",
      "{'tfidfvectorizer__ngram_range': (1, 3), 'logisticregression__C': 10}\n",
      "Test set score: 0.56\n"
     ]
    }
   ],
   "source": [
    "pipe = make_pipeline(TfidfVectorizer(min_df=5, token_pattern = r\"\\b\\w\\w+\\b\"), LogisticRegression())\n",
    "param_grid = {\"logisticregression__C\": [0.001, 0.01, 0.1, 1, 10, 100],\n",
    "\"tfidfvectorizer__ngram_range\": [(1, 1), (1, 2), (1, 3)]}\n",
    "\n",
    "grid_m2 = GridSearchCV(pipe, param_grid, cv=5, scoring = 'f1_macro')\n",
    "grid_m2.fit(X_train, y_train)\n",
    "print(\"Best cross-validation score: {:.2f}\".format(grid_m2.best_score_))\n",
    "print(\"Best parameters:\\n{}\".format(grid_m2.best_params_))\n",
    "\n",
    "y_pred_m2 = grid_m2.predict(X_test)\n",
    "print(\"Test set score: {:.2f}\".format(np.mean(y_pred_m2 == y_test)))"
   ]
  },
  {
   "cell_type": "markdown",
   "metadata": {},
   "source": [
    "The tuning using grid search results in different parameter, but this time we improve our score by 2% using simple Tfidf without our previous token_pattern or stop words."
   ]
  },
  {
   "cell_type": "markdown",
   "metadata": {},
   "source": [
    "### Normalization\n",
    "\n",
    "We now want to apply a more advanced way to extract some normal form of a word, and see if this would improve our model. Therefore, we will first load spacy's English-language models and instantiate nltk's Porter stemmer, and also define function to compare lemmatization in spacy with stemming in nltk as follows.\n"
   ]
  },
  {
   "cell_type": "markdown",
   "metadata": {},
   "source": [
    "#### Lemmatization"
   ]
  },
  {
   "cell_type": "code",
   "execution_count": null,
   "metadata": {},
   "outputs": [],
   "source": [
    "# using Lemmatization\n",
    "\n",
    "import re\n",
    "import spacy\n",
    "import nltk\n",
    "\n",
    "regexp = re.compile('(?u)\\\\b\\\\w\\\\w+\\\\b')\n",
    "en_nlp = spacy.load('en')\n",
    "old_tokenizer = en_nlp.tokenizer\n",
    "en_nlp.tokenizer = lambda string: old_tokenizer.tokens_from_list(regexp.findall(string))\n",
    "\n",
    "def lemmatization(document):\n",
    "    doc_spacy = en_nlp(document, entity=False, parse=False)\n",
    "    return [token.lemma_ for token in doc_spacy]\n",
    "\n",
    "vectorizer = TfidfVectorizer(min_df=5, tokenizer=lemmatization,\n",
    "                             ngram_range=(1, 2)).fit(X_train)\n",
    "print(\"Vocabulary size: {}\".format(len(vectorizer.vocabulary_)))\n",
    "\n",
    "pipe = make_pipeline(vectorizer, LogisticRegression(C=10))\n",
    "scores = cross_val_score(pipe, X_train, y_train, cv=5, scoring = 'f1_macro')\n",
    "print('Training set CV scores:',str(scores),'with mean of', str(np.mean(scores)))\n",
    "\n",
    "pipe.fit(X_train, y_train)\n",
    "y_pred = pipe.predict(X_test)\n",
    "print(\"Test set score: {:.2f}\".format(np.mean(y_pred == y_test)))"
   ]
  },
  {
   "cell_type": "markdown",
   "metadata": {},
   "source": [
    "Number of vocabulary used is too low. We will try if it improves using stemming."
   ]
  },
  {
   "cell_type": "markdown",
   "metadata": {},
   "source": [
    "#### Stemming"
   ]
  },
  {
   "cell_type": "code",
   "execution_count": null,
   "metadata": {},
   "outputs": [],
   "source": [
    "# using Stemming\n",
    "stemmer = nltk.stem.PorterStemmer()\n",
    "\n",
    "def stemming(document):\n",
    "    doc_spacy = en_nlp(document)\n",
    "    return [stemmer.stem(token.norm_.lower()) for token in doc_spacy]\n",
    "\n",
    "vectorizer = TfidfVectorizer(min_df=5, tokenizer=stemming,\n",
    "                             ngram_range=(1, 2)).fit(X_train)\n",
    "print(\"Vocabulary size: {}\".format(len(vectorizer.vocabulary_)))\n",
    "\n",
    "pipe = make_pipeline(vectorizer, LogisticRegression(C=10))\n",
    "scores = cross_val_score(pipe, X_train, y_train, cv=5, scoring = 'f1_macro')\n",
    "print('Training set CV scores:',str(scores),'with mean of', str(np.mean(scores)))\n",
    "\n",
    "pipe.fit(X_train, y_train)\n",
    "y_pred = pipe.predict(X_test)\n",
    "print(\"Test set score: {:.2f}\".format(np.mean(y_pred == y_test)))"
   ]
  },
  {
   "cell_type": "markdown",
   "metadata": {},
   "source": [
    "We just saw that stemming words is better than performing lemmatization. We see above the model doesn't improve from just using TfidfVectorizer without normalization. So in this case, we will proceed with our highest model for next step: TfidfVectorizer with min_df of 5 and ngram_range of (1, 3) and Logistic Regression with C parameter of 10, with best cross validation score of 0.58 and a test score of 0.63."
   ]
  },
  {
   "cell_type": "markdown",
   "metadata": {},
   "source": [
    "## Step 4: Result Visualizations"
   ]
  },
  {
   "cell_type": "markdown",
   "metadata": {},
   "source": [
    "Tasks: Visualize results of the tuned model (classification results, confusion matrix, important features, example mistakes)."
   ]
  },
  {
   "cell_type": "markdown",
   "metadata": {},
   "source": [
    "### Classification Results"
   ]
  },
  {
   "cell_type": "code",
   "execution_count": null,
   "metadata": {},
   "outputs": [],
   "source": [
    "print(\"Test set predictions:\\n {}\\n\".format(y_pred_m2))\n",
    "print(\"Test set score: {:.2f}\".format(np.mean(y_pred_m2 == y_test)))\n",
    "print(classification_report(y_test, y_pred_m2))"
   ]
  },
  {
   "cell_type": "markdown",
   "metadata": {},
   "source": [
    "We see here that our precision 0.64, represents a performance metric when the goal is to limit the number of false positives, that is, TP/(TP+FP). The precision is relatively good in our model, which allows us to see that the modeldoes not produce as many false positives—in other words. Our recall score of 0.63 represents a performance metric to identify all positive samples and avoid false negatives, that is, TP/(TP+FN). Finally, our f1 score of 0.63 represents a harmonic mean of precision and recall, which in this case assures accuracy of our model."
   ]
  },
  {
   "cell_type": "markdown",
   "metadata": {},
   "source": [
    "### Tuned Parameters"
   ]
  },
  {
   "cell_type": "code",
   "execution_count": null,
   "metadata": {},
   "outputs": [],
   "source": [
    "scores = grid_m2.cv_results_['mean_test_score'].reshape(-1, 3).T\n",
    "\n",
    "heatmap = mglearn.tools.heatmap(\n",
    "    scores, xlabel=\"C\", ylabel=\"ngram_range\", cmap=\"viridis\", fmt=\"%.3f\",\n",
    "    xticklabels=param_grid['logisticregression__C'],\n",
    "    yticklabels=param_grid['tfidfvectorizer__ngram_range'])\n",
    "plt.colorbar(heatmap)\n",
    "plt.show()"
   ]
  },
  {
   "cell_type": "markdown",
   "metadata": {},
   "source": [
    "The heatmap above is constant with our result of 0.63, where we use (1,3) as our ngram range and 10 as our c value for the logistic regression. The 0.63 is highlighted with the brightest color (highest value) in the heatmap."
   ]
  },
  {
   "cell_type": "markdown",
   "metadata": {},
   "source": [
    "### Confusion matrix"
   ]
  },
  {
   "cell_type": "code",
   "execution_count": null,
   "metadata": {},
   "outputs": [],
   "source": [
    "plt.rcParams[\"figure.dpi\"] = 100\n",
    "pylab.rcParams['figure.figsize'] = 8, 8\n",
    "\n",
    "norm_conf = []\n",
    "\n",
    "def xrange(x):\n",
    "    return iter(range(x))\n",
    "\n",
    "for i in conf_arr:\n",
    "    a = 0\n",
    "    tmp_arr = []\n",
    "    a = sum(i, 0)\n",
    "    for j in i:\n",
    "        tmp_arr.append(float(j)/float(a))\n",
    "    norm_conf.append(tmp_arr)\n",
    "\n",
    "fig = plt.figure()\n",
    "plt.clf()\n",
    "ax = fig.add_subplot(111)\n",
    "ax.set_aspect(1)\n",
    "res = ax.imshow(np.array(norm_conf), cmap=\"Blues\", \n",
    "                interpolation='nearest')\n",
    "\n",
    "width, height = conf_arr.shape\n",
    "for x in xrange(width):\n",
    "    for y in xrange(height):\n",
    "        ax.annotate(str(conf_arr[x][y]), xy=(y, x), \n",
    "                    horizontalalignment='center',\n",
    "                    verticalalignment='center')\n",
    "\n",
    "cb = fig.colorbar(res)\n",
    "plt.xticks(range(width),)\n",
    "plt.yticks(range(height),)\n",
    "plt.show()\n",
    "\n",
    "print('Complaints Index Map:')\n",
    "for i in complaints_map_reindexed:\n",
    "    print(i,\":\",complaints_map_reindexed[i])"
   ]
  },
  {
   "cell_type": "markdown",
   "metadata": {},
   "source": [
    "The model has an f1-score of 63%, which already tells us that we are doing pretty well. The confusion matrix above provides us with some more detail. As for the binary case, each row corresponds to a true label, and each column corresponds to a predicted label."
   ]
  },
  {
   "cell_type": "markdown",
   "metadata": {},
   "source": [
    "### Important features"
   ]
  },
  {
   "cell_type": "markdown",
   "metadata": {},
   "source": [
    "Based on parameters above, we can visualize our important features below."
   ]
  },
  {
   "cell_type": "code",
   "execution_count": null,
   "metadata": {},
   "outputs": [],
   "source": [
    "# pipe_m2 = make_pipeline(TfidfVectorizer(min_df=5, ngram_range=(1, 3)), LogisticRegression(C=10))\n",
    "\n",
    "vect_model2 = TfidfVectorizer(min_df=5, ngram_range=(1, 3))\n",
    "\n",
    "X_train_model2 = vect_model2.fit_transform(X_train)\n",
    "lr_model2 = LogisticRegression(C=10).fit(X_train_model2, y_train)\n",
    "X_test_model2 = vect_model2.transform(X_test)\n",
    "\n",
    "print(\"Model 2 score: {:.2f}\".format(lr_model2.score(X_test_model2, y_test)))"
   ]
  },
  {
   "cell_type": "code",
   "execution_count": null,
   "metadata": {},
   "outputs": [],
   "source": [
    "coef_model2 = lr_model2.coef_.T # length of 1642\n",
    "feature_names_model2 = np.array(vect_model2.get_feature_names())\n",
    "print(coef_model2.shape, feature_names_model2.shape)# length of 1642"
   ]
  },
  {
   "cell_type": "code",
   "execution_count": null,
   "metadata": {},
   "outputs": [],
   "source": [
    "# sample of the first 100 feature names:\n",
    "feature_names_model2[:100]"
   ]
  },
  {
   "cell_type": "code",
   "execution_count": null,
   "metadata": {},
   "outputs": [],
   "source": [
    "print(np.min(coef_model2))"
   ]
  },
  {
   "cell_type": "markdown",
   "metadata": {},
   "source": [
    "#### Across all 10 topics using 30 most and 30 least favorable features:"
   ]
  },
  {
   "cell_type": "code",
   "execution_count": null,
   "metadata": {},
   "outputs": [],
   "source": [
    "def plot_important_features(coef, feature_names, top_n=20, ax=None):\n",
    "    if ax is None:\n",
    "        ax = plt.gca()\n",
    "\n",
    "    inds_max = np.argsort(np.max(coef, axis=1)).astype(int) # increasing order\n",
    "    inds_min = np.argsort(np.min(coef, axis=1)).astype(int)\n",
    "    \n",
    "    low = inds_min[:top_n]\n",
    "    high = inds_max[-top_n:]\n",
    "    \n",
    "    important_coef = np.hstack([np.min(coef, axis=1)[low],\n",
    "              np.max(coef, axis=1)[high]])\n",
    "    \n",
    "    important = np.hstack([low, high])\n",
    "    \n",
    "    myrange = range(len(important))\n",
    "    \n",
    "    ax.bar(myrange, important_coef)\n",
    "    ax.set_xticks(myrange)\n",
    "    ax.set_xticklabels(feature_names[important], rotation=70, ha=\"right\")\n",
    "    \n",
    "plt.figure(figsize=(15, 5))\n",
    "plot_important_features(coef_model2, feature_names_model2, top_n=30)"
   ]
  },
  {
   "cell_type": "markdown",
   "metadata": {},
   "source": [
    "The plot above allows us to see all the important features across all 10 topics. However the words bikes are in both ends, meaning it was very high for a topic and also was very low for another topic. Let's look at the features using each topic to fix this issue."
   ]
  },
  {
   "cell_type": "markdown",
   "metadata": {},
   "source": [
    "#### For each of the 10 topics using 30 most and 30 least favorable features:"
   ]
  },
  {
   "cell_type": "code",
   "execution_count": null,
   "metadata": {},
   "outputs": [],
   "source": [
    "def plot_features(coef, feature_names, top_n=20, ax=None):\n",
    "    if ax is None:\n",
    "        ax = plt.gca()\n",
    "\n",
    "    inds = np.argsort(coef)\n",
    "    low = inds[:top_n]\n",
    "    high = inds[-top_n:]\n",
    "    \n",
    "    important_coef = np.hstack([low, high])\n",
    "    myrange = range(len(important_coef))\n",
    "    \n",
    "    ax.bar(myrange, coef[important_coef])\n",
    "    ax.set_xticks(myrange)\n",
    "    ax.set_xticklabels(feature_names[important_coef], rotation=70, ha=\"right\")\n",
    "\n",
    "\n",
    "fig = plt.figure()\n",
    "fig, axes = plt.subplots(11 // 3+1, 3, figsize=(18, 20))\n",
    "print(axes[1,1])\n",
    "for i, ax in enumerate(axes.flatten()):\n",
    "    if i > 10:\n",
    "        continue\n",
    "    ax.set_title(\"Topic %s\" %i)\n",
    "    plot_features(coef_model2[:,i], feature_names_model2, top_n=10, ax=ax)\n",
    "plt.tight_layout()  \n",
    "plt.show()\n",
    "\n",
    "print('Complaints Index Map:')\n",
    "for i in complaints_map_reindexed:\n",
    "    print(i,\":\",complaints_map_reindexed[i])"
   ]
  },
  {
   "cell_type": "markdown",
   "metadata": {},
   "source": [
    "### Example mistakes"
   ]
  },
  {
   "cell_type": "markdown",
   "metadata": {},
   "source": [
    "Some classification mistakes can be found on the confusion matrix we plotted above. While most digits are correctly represented (indicated by darker region in the diagonal line of matrix), we saw that there are quite many digits that are misclassified. For instance, there are 19 digit 0's (J-walking) that are misclassified as 5 (other). There are 52 digit 3's (failure to yield) also misclassified as digit 5. Other digits are also found to be misclassified as 'other', which includes 22 digits for 'ramps or sidewalks', 16 'roadway improvement', and 10 'wait for walk signal'.\n",
    "\n",
    "There are also misclassifications of 'other' digits, such as 62 of them misclassified as digit 3 (failure to yield), and 15 of them misclassified as 'speeding' (class 8). Some other tendency for mistakes can also be found in digit 9 (too far or too many lanes to cross or not enough time), where 2 of them are misclassified as class 3 (bike facilities dont exist or need improvement) and 5 of them as class 10 (wait for walk signal)."
   ]
  },
  {
   "cell_type": "markdown",
   "metadata": {},
   "source": [
    "## Step 5: Clustering Techniques"
   ]
  },
  {
   "cell_type": "markdown",
   "metadata": {},
   "source": [
    "Steps: Apply LDA, NMF and K-Means to the whole dataset. Find clusters or topics that match well with some of the ground truth labels. Use ARI to compare the methods and visualize topics and clusters."
   ]
  },
  {
   "cell_type": "code",
   "execution_count": null,
   "metadata": {},
   "outputs": [],
   "source": [
    "from sklearn.cluster import KMeans\n",
    "from sklearn.decomposition import PCA, NMF, LatentDirichletAllocation\n",
    "from sklearn.metrics import adjusted_rand_score"
   ]
  },
  {
   "cell_type": "code",
   "execution_count": null,
   "metadata": {},
   "outputs": [],
   "source": [
    "tfid = TfidfVectorizer(min_df=5, ngram_range=(1, 3))\n",
    "tfid.fit(X)\n",
    "X_tfid = tfid.transform(X)\n",
    "\n",
    "pca = PCA(n_components=50)\n",
    "pca.fit(X_tfid.toarray())\n",
    "explained = pca.explained_variance_\n",
    "\n",
    "fig = plt.figure()\n",
    "axes = fig.add_subplot(1,1,1)\n",
    "axes.plot(range(1, len(explained) + 1), explained)\n",
    "axes.set_ylabel('Explained Variance')\n",
    "axes.set_xlabel('Principle Component')\n",
    "plt.show()\n",
    "\n",
    "pca2 = PCA(n_components=3)\n",
    "projected_data_pca = pca2.fit_transform(X_tfid.toarray())"
   ]
  },
  {
   "cell_type": "code",
   "execution_count": null,
   "metadata": {},
   "outputs": [],
   "source": [
    "ari_lda = np.zeros(17)\n",
    "ari_nmf = np.zeros(17)\n",
    "ari_kmn = np.zeros(17)\n",
    "\n",
    "\n",
    "for i in range(1, 17):\n",
    "    lda = LatentDirichletAllocation(n_topics=i, learning_method='batch')\n",
    "    lda.fit(X_tfid.T)\n",
    "    clusters_lda = np.argmax(lda.components_, axis=0)\n",
    "    \n",
    "    nmf = NMF(n_components=i)\n",
    "    nmf.fit(X_tfid.T)\n",
    "    clusters_nmf = np.argmax(nmf.components_, axis=0)\n",
    "    \n",
    "    kmn = KMeans(n_clusters=i)\n",
    "    clusters_kmn = kmn.fit_predict(X_tfid)\n",
    "    \n",
    "    ari_lda[i] = adjusted_rand_score(y_true, clusters_lda)\n",
    "    ari_nmf[i] = adjusted_rand_score(y_true, clusters_nmf)\n",
    "    ari_kmn[i] = adjusted_rand_score(y_true, clusters_kmn)"
   ]
  },
  {
   "cell_type": "code",
   "execution_count": null,
   "metadata": {},
   "outputs": [],
   "source": [
    "fig = plt.figure()\n",
    "axes = fig.add_subplot(1,1,1)\n",
    "axes.plot(range(17), ari_lda, 'b', label='lda')\n",
    "axes.plot(range(17), ari_nmf, 'r', label='nmf')\n",
    "axes.plot(range(17), ari_kmn, 'y', label='kmn')\n",
    "axes.set_xlabel('Number of Clusters')\n",
    "axes.set_ylabel('ARI score')\n",
    "axes.legend()\n",
    "plt.show()"
   ]
  },
  {
   "cell_type": "markdown",
   "metadata": {},
   "source": [
    "### LDA"
   ]
  },
  {
   "cell_type": "code",
   "execution_count": null,
   "metadata": {},
   "outputs": [],
   "source": [
    "lda = LatentDirichletAllocation(n_topics = 13, learning_method='batch')\n",
    "lda.fit(X_tfid.T)\n",
    "clusters_lda = np.argmax(lda.components_, axis=0)"
   ]
  },
  {
   "cell_type": "code",
   "execution_count": null,
   "metadata": {},
   "outputs": [],
   "source": [
    "fig=plt.figure(figsize=(10,5))\n",
    "axes1=fig.add_subplot(1,2,1)\n",
    "axes2=fig.add_subplot(1,2,2)\n",
    "\n",
    "for c in np.unique(clusters_lda):\n",
    "    axes1.scatter(projected_data_pca[c==clusters_lda,0], projected_data_pca[c==clusters_lda,1], s=1, \n",
    "                  label=c, alpha=0.5)\n",
    "    if c < 11:\n",
    "        axes2.scatter(projected_data_pca[c==y_true,0], projected_data_pca[c==y_true,1], s=1, \n",
    "                      label=complaints_map[c][:7], alpha=0.5)\n",
    "    \n",
    "axes1.set_xlabel('PC1')\n",
    "axes1.set_ylabel('PC2')\n",
    "axes1.set_ylabel('Predicted')\n",
    "\n",
    "axes2.legend(bbox_to_anchor=(1.05, 1))\n",
    "axes2.set_xlabel('PC1')\n",
    "axes2.set_ylabel('PC2')\n",
    "axes2.set_title('True')\n",
    "\n",
    "plt.show()\n",
    "\n",
    "print(\"ARI score between true and predicted clusterings: \", adjusted_rand_score(y_true, clusters_lda))"
   ]
  },
  {
   "cell_type": "code",
   "execution_count": null,
   "metadata": {},
   "outputs": [],
   "source": [
    "nmf = NMF(n_components=6)\n",
    "\n",
    "nmf.fit(X_tfid.T)\n",
    "clusters_nmf = np.argmax(nmf.components_, axis=0)"
   ]
  },
  {
   "cell_type": "code",
   "execution_count": null,
   "metadata": {},
   "outputs": [],
   "source": [
    "fig=plt.figure(figsize=(10,5))\n",
    "axes1=fig.add_subplot(1,2,1)\n",
    "axes2=fig.add_subplot(1,2,2)\n",
    "\n",
    "for c in np.unique(clusters_nmf):\n",
    "    axes1.scatter(projected_data_pca[c==clusters_nmf,0], projected_data_pca[c==clusters_nmf,1], s=1, label=c, alpha=0.5)\n",
    "\n",
    "for i in range(11):\n",
    "    axes2.scatter(projected_data_pca[np.int64(i)==y_true,0], projected_data_pca[np.int64(i)==y_true,1], s=1, \n",
    "                  label=complaints_map[i][:7], alpha=0.5)\n",
    "\n",
    "axes1.set_xlabel('PC1')\n",
    "axes1.set_ylabel('PC2')\n",
    "axes1.set_ylabel('Predicted')\n",
    "\n",
    "axes2.legend(bbox_to_anchor=(1.05, 1))\n",
    "axes2.set_xlabel('PC1')\n",
    "axes2.set_ylabel('PC2')\n",
    "axes2.set_title('True')\n",
    "\n",
    "plt.show()\n",
    "\n",
    "print(\"ARI score between true and predicted clusterings: \", adjusted_rand_score(y_true, clusters_nmf))"
   ]
  },
  {
   "cell_type": "markdown",
   "metadata": {},
   "source": [
    "### KMeans"
   ]
  },
  {
   "cell_type": "code",
   "execution_count": null,
   "metadata": {},
   "outputs": [],
   "source": [
    "kmn = KMeans(n_clusters=15)\n",
    "clusters_kmn = kmn.fit_predict(X_tfid)"
   ]
  },
  {
   "cell_type": "code",
   "execution_count": null,
   "metadata": {},
   "outputs": [],
   "source": [
    "fig=plt.figure(figsize=(10,5))\n",
    "axes1=fig.add_subplot(1,2,1)\n",
    "axes2=fig.add_subplot(1,2,2)\n",
    "\n",
    "for c in np.unique(clusters_kmn):\n",
    "    axes1.scatter(projected_data_pca[c==clusters_kmn,0], projected_data_pca[c==clusters_kmn,1], s=1, label=c, alpha=0.5)\n",
    "    if c < 11:\n",
    "        axes2.scatter(projected_data_pca[c==y_true,0], projected_data_pca[c==y_true,1], s=1, \n",
    "                  label=complaints_map[c][:7], alpha=0.5)\n",
    "    \n",
    "axes1.set_xlabel('PC1')\n",
    "axes1.set_ylabel('PC2')\n",
    "axes1.set_title('Predicted')\n",
    "\n",
    "axes2.legend(bbox_to_anchor=(1.05, 1), )\n",
    "axes2.set_xlabel('PC1')\n",
    "axes2.set_ylabel('PC2')\n",
    "axes2.set_title('True')\n",
    "\n",
    "plt.show()\n",
    "\n",
    "print(\"ARI score between true and predicted clusterings: \", adjusted_rand_score(y_true, clusters_kmn))"
   ]
  },
  {
   "cell_type": "markdown",
   "metadata": {},
   "source": [
    "## Step 6: Improved Classification Techniques"
   ]
  },
  {
   "cell_type": "markdown",
   "metadata": {},
   "source": [
    "Improve the class definition for REQUESTTYPE by using the results of the clustering and results of the previous classification model. Re-assign labels using either the results of clustering or using keywords that you found during data exploration. The labels must be semantically meaningful. The data has a large “other” category. Apply the topic modeling and clustering techniques to this subset of the data to find possible splits of this class. Report accuracy using macro average f1 score (should be above .53)"
   ]
  },
  {
   "cell_type": "markdown",
   "metadata": {},
   "source": [
    "### Condensing Categories"
   ]
  },
  {
   "cell_type": "code",
   "execution_count": null,
   "metadata": {},
   "outputs": [],
   "source": [
    "# Add your code for task 6 here. You may use multiple cells. \n",
    "#condense categories as clustering showed fewer clusters/topics than we have\n",
    "type_to_key_update = [0, 1, 2, 2, 6, 1, 1, 3, 3, 4, 1, 1, 3, 3, 1, 5, 5, 1, 0, 1, 1]\n",
    "updated_complaints_map = {\n",
    "                            0 : \"bike facilities\",\n",
    "                            1 : \"crosswalks ramps or sidewalks\",\n",
    "                            2 : \"low visibility\",\n",
    "                            3 : \"traffic violation\",\n",
    "                            4 : \"double parking\",\n",
    "                            5 : \"roadway improvement\",\n",
    "                            6 : \"other\"\n",
    "                            }\n",
    "\n",
    "for i, line in enumerate(np.unique(df['REQUESTTYPE'])):\n",
    "    df['code'][df['REQUESTTYPE'] == line] = updated_complaints_map[type_to_key_update[i]]\n",
    "    df['y_true'][df['REQUESTTYPE'] == line] = type_to_key_update[i]\n",
    "    \n",
    "y_update = df['code']\n",
    "y_true_update = df['y_true']"
   ]
  },
  {
   "cell_type": "code",
   "execution_count": null,
   "metadata": {},
   "outputs": [],
   "source": [
    "X_u_train, X_u_test, y_u_train, y_u_test = train_test_split(X, y_update)"
   ]
  },
  {
   "cell_type": "code",
   "execution_count": null,
   "metadata": {},
   "outputs": [],
   "source": [
    "from sklearn.metrics import f1_score\n",
    "\n",
    "pipe = make_pipeline(TfidfVectorizer(min_df=5, ngram_range = (1,2)), LogisticRegression(C = 10))\n",
    "scores = cross_val_score(pipe, X_u_train, y_u_train, cv=5, scoring='f1_macro')\n",
    "print(scores, np.mean(scores))\n",
    "\n",
    "pipe.fit(X_u_train, y_u_train)\n",
    "y_pred = pipe.predict(X_u_test)\n",
    "print(f1_score(y_pred, y_u_test, average='macro'))"
   ]
  },
  {
   "cell_type": "markdown",
   "metadata": {},
   "source": [
    "### Dealing with Other"
   ]
  },
  {
   "cell_type": "code",
   "execution_count": null,
   "metadata": {},
   "outputs": [],
   "source": [
    "others = df[df['REQUESTTYPE'] == 'of something that is not listed here']\n",
    "\n",
    "X_other = others[\"COMMENTS\"]\n",
    "\n",
    "tfid_for_other = TfidfVectorizer(min_df=5)\n",
    "tfid_for_other.fit(X_other)\n",
    "other_tfid = tfid_for_other.transform(X_other)\n",
    "\n",
    "pca = PCA(n_components=30)\n",
    "pca.fit(other_tfid.toarray())\n",
    "explained = pca.explained_variance_\n",
    "\n",
    "fig = plt.figure()\n",
    "axes = fig.add_subplot(1,1,1)\n",
    "axes.plot(range(1, len(explained) + 1), explained)\n",
    "axes.set_ylabel('Explained Variance')\n",
    "axes.set_xlabel('Principle Component')\n",
    "plt.show()\n",
    "\n",
    "pca2 = PCA(n_components=3)\n",
    "projected_other = pca2.fit_transform(other_tfid.toarray())"
   ]
  },
  {
   "cell_type": "code",
   "execution_count": null,
   "metadata": {},
   "outputs": [],
   "source": [
    "ari_lda_nmf = np.zeros(10)\n",
    "ari_nmf_kmn = np.zeros(10)\n",
    "ari_kmn_lda = np.zeros(10)\n",
    "\n",
    "for i in range(1, 10):\n",
    "    lda = LatentDirichletAllocation(n_topics=i, learning_method='batch')\n",
    "    lda.fit(other_tfid.T)\n",
    "    clusters_lda = np.argmax(lda.components_, axis=0)\n",
    "    \n",
    "    nmf = NMF(n_components=i)\n",
    "    nmf.fit(other_tfid.T)\n",
    "    clusters_nmf = np.argmax(nmf.components_, axis=0)\n",
    "    \n",
    "    kmn = KMeans(n_clusters=i)\n",
    "    clusters_kmn = kmn.fit_predict(other_tfid)\n",
    "    \n",
    "    ari_lda_nmf[i] = adjusted_rand_score(clusters_nmf, clusters_lda)\n",
    "    ari_nmf_kmn[i] = adjusted_rand_score(clusters_kmn, clusters_nmf)\n",
    "    ari_kmn_lda[i] = adjusted_rand_score(clusters_lda, clusters_kmn)"
   ]
  },
  {
   "cell_type": "code",
   "execution_count": null,
   "metadata": {},
   "outputs": [],
   "source": [
    "fig = plt.figure()\n",
    "axes = fig.add_subplot(1,1,1)\n",
    "axes.plot(range(10), ari_lda_nmf, 'b', label='lda_nmf')\n",
    "axes.plot(range(10), ari_nmf_kmn, 'r', label='nmf_kmn')\n",
    "axes.plot(range(10), ari_kmn_lda, 'y', label='kmn_lda')\n",
    "axes.set_xlabel('Number of Clusters')\n",
    "axes.set_ylabel('ARI score')\n",
    "axes.legend()\n",
    "plt.show()"
   ]
  },
  {
   "cell_type": "code",
   "execution_count": null,
   "metadata": {},
   "outputs": [],
   "source": [
    "kmn = KMeans(n_clusters=4)\n",
    "clusters_kmn_o = kmn.fit_predict(other_tfid)\n",
    "\n",
    "nmf = NMF(n_components=4)\n",
    "nmf.fit(other_tfid.T)\n",
    "clusters_nmf_o = np.argmax(nmf.components_, axis=0)\n",
    "\n",
    "lda = LatentDirichletAllocation(n_topics = 4, learning_method='batch')\n",
    "lda.fit(other_tfid.T)\n",
    "clusters_lda_o = np.argmax(lda.components_, axis=0)"
   ]
  },
  {
   "cell_type": "code",
   "execution_count": null,
   "metadata": {},
   "outputs": [],
   "source": [
    "fig=plt.figure(figsize=(10,10))\n",
    "axes1=fig.add_subplot(2,2,1)\n",
    "axes2=fig.add_subplot(2,2,2)\n",
    "axes3=fig.add_subplot(2,2,3)\n",
    "\n",
    "for c in np.unique(clusters_nmf_o):\n",
    "    axes1.scatter(projected_other[c == clusters_lda_o,0], \n",
    "                  projected_other[c == clusters_lda_o, 1], \n",
    "                  s = 1, label = c, alpha = 0.5)\n",
    "\n",
    "    axes2.scatter(projected_other[c == clusters_nmf_o,0], \n",
    "                  projected_other[c == clusters_nmf_o, 1], \n",
    "                  s = 1, label = c, alpha = 0.5)\n",
    "\n",
    "    axes3.scatter(projected_other[c == clusters_kmn_o,0], \n",
    "                  projected_other[c == clusters_kmn_o, 1], \n",
    "                  s = 1, label = c, alpha = 0.5)\n",
    "\n",
    "axes1.legend(bbox_to_anchor=(1.05, 1))\n",
    "axes1.set_xlabel('PC1')\n",
    "axes1.set_ylabel('PC2')\n",
    "axes1.set_title('LDA')\n",
    "\n",
    "axes2.legend(bbox_to_anchor=(1.05, 1))\n",
    "axes2.set_xlabel('PC1')\n",
    "axes2.set_ylabel('PC2')\n",
    "axes2.set_title('NMF')\n",
    "\n",
    "axes3.legend(bbox_to_anchor=(1.05, 1))\n",
    "axes3.set_xlabel('PC1')\n",
    "axes3.set_ylabel('PC2')\n",
    "axes3.set_title('KMeans')\n",
    "\n",
    "plt.show()"
   ]
  },
  {
   "cell_type": "code",
   "execution_count": null,
   "metadata": {},
   "outputs": [],
   "source": [
    "cv_other_scores = cross_val_score(LogisticRegression(C=10), other_tfid, clusters_nmf_o, cv=5, scoring='f1_macro')\n",
    "print('NMF cross val scores: ', cv_other_scores, np.mean(cv_other_scores))\n",
    "\n",
    "cv_other_scores = cross_val_score(LogisticRegression(C=10), other_tfid, clusters_kmn_o, cv=5, scoring='f1_macro')\n",
    "print('KMN cross val scores: ', cv_other_scores, np.mean(cv_other_scores))\n",
    "\n",
    "cv_other_scores = cross_val_score(LogisticRegression(C=10), other_tfid, clusters_lda_o, cv=5, scoring='f1_macro')\n",
    "print('LDA cross val scores: ', cv_other_scores, np.mean(cv_other_scores))\n",
    "\n",
    "#Proceed with KMN\n",
    "\n",
    "\n",
    "\n",
    "coef_model2 = lr_model2.coef_.T # length of 1642\n",
    "feature_names_model2 = np.array(vect_model2.get_feature_names())\n",
    "\n",
    "print(len(clusters_nmf_o))\n",
    "print(X_other)\n",
    "\n",
    "tfidf_vect = TfidfVectorizer(min_df=5)\n",
    "tfidf_vect.fit(X_other[np.int64(0) == clusters_nmf_o])\n",
    "print(tfidf_vect.get_feature_names)"
   ]
  },
  {
   "cell_type": "code",
   "execution_count": null,
   "metadata": {},
   "outputs": [],
   "source": [
    "def plot_other_features(coef, feature_names, top_n=20, ax=None):\n",
    "    if ax is None:\n",
    "        ax = plt.gca()\n",
    "\n",
    "    inds = np.argsort(coef)\n",
    "    \n",
    "    low = inds[:top_n]\n",
    "    high = inds[-top_n:]\n",
    "    \n",
    "    important_coef = np.hstack([low, high])\n",
    "    \n",
    "    myrange = range(len(important_coef))\n",
    "    \n",
    "    ax.bar(myrange, coef[important_coef])\n",
    "    ax.set_xticks(myrange)\n",
    "    ax.set_xticklabels(feature_names[important_coef], rotation=70, ha=\"right\")\n",
    "\n",
    "lr_model_other = LogisticRegression(C=10).fit(other_tfid, clusters_kmn_o)\n",
    "\n",
    "coef_other = lr_model_other.coef_.T\n",
    "feature_names_other = np.array(tfid_for_other.get_feature_names())\n",
    "\n",
    "for i in range(4):\n",
    "    plt.figure(figsize=(15, 5))\n",
    "    plt.title('Cluster %s' %i)\n",
    "    plot_other_features(coef_other[:,i], feature_names_other, top_n=25)\n",
    "\n",
    "    \n",
    "other_categories={ 0 : 'True other',\n",
    "                   1 : 'Wrong way on a one way',\n",
    "                   2 : 'crosswalks ramps or sidewalks',\n",
    "                   3 : 'left turn at night difficult'}"
   ]
  },
  {
   "cell_type": "markdown",
   "metadata": {},
   "source": [
    "## Step 7: Doc2Vec Models"
   ]
  },
  {
   "cell_type": "markdown",
   "metadata": {},
   "source": [
    "Use a word embedding representation like word2vec for step 3 and or step 6."
   ]
  },
  {
   "cell_type": "markdown",
   "metadata": {},
   "source": [
    "### Doc2Vec\n",
    "\n",
    "Doc2Vec is a great way to explore relationships between documents. Improve the model using more complex text features, including n-grams, character n-grams and possibly domain-specific features."
   ]
  },
  {
   "cell_type": "markdown",
   "metadata": {},
   "source": [
    "#### Read and preprocess text"
   ]
  },
  {
   "cell_type": "code",
   "execution_count": null,
   "metadata": {},
   "outputs": [],
   "source": [
    "import gensim\n",
    "import os\n",
    "import collections\n",
    "import smart_open\n",
    "import random"
   ]
  },
  {
   "cell_type": "code",
   "execution_count": null,
   "metadata": {},
   "outputs": [],
   "source": [
    "def read_corpus(f, tokens_only=False):\n",
    "    for i, line in enumerate(f):\n",
    "        aList.append(line)\n",
    "        if tokens_only:\n",
    "            yield gensim.utils.simple_preprocess(line)\n",
    "        else:\n",
    "            yield gensim.models.doc2vec.TaggedDocument(gensim.utils.simple_preprocess(line), [i])"
   ]
  },
  {
   "cell_type": "code",
   "execution_count": null,
   "metadata": {},
   "outputs": [],
   "source": [
    "train_corpus = list(read_corpus(X_train))\n",
    "test_corpus = list(read_corpus(X_test, tokens_only=True))"
   ]
  },
  {
   "cell_type": "markdown",
   "metadata": {},
   "source": [
    "See some examples:"
   ]
  },
  {
   "cell_type": "code",
   "execution_count": null,
   "metadata": {},
   "outputs": [],
   "source": [
    "train_corpus[:2]"
   ]
  },
  {
   "cell_type": "code",
   "execution_count": null,
   "metadata": {},
   "outputs": [],
   "source": [
    "test_corpus[:2]"
   ]
  },
  {
   "cell_type": "markdown",
   "metadata": {},
   "source": [
    "#### Training the model"
   ]
  },
  {
   "cell_type": "markdown",
   "metadata": {},
   "source": [
    "Build a vocabulary as follows."
   ]
  },
  {
   "cell_type": "code",
   "execution_count": null,
   "metadata": {},
   "outputs": [],
   "source": [
    "model = gensim.models.doc2vec.Doc2Vec(size=50, min_count=2, iter=55)\n",
    "model.build_vocab(train_corpus)\n",
    "# %time model.train(train_corpus, total_examples=model.corpus_count, epochs=model.iter)"
   ]
  },
  {
   "cell_type": "markdown",
   "metadata": {},
   "source": [
    "Let's try a vocab word to count and infer a vector:"
   ]
  },
  {
   "cell_type": "code",
   "execution_count": null,
   "metadata": {},
   "outputs": [],
   "source": [
    "model.wv.vocab['bike'].count"
   ]
  },
  {
   "cell_type": "code",
   "execution_count": null,
   "metadata": {},
   "outputs": [],
   "source": [
    "model.infer_vector(['bikers','often','run','red','lights','and','not','stopping'])"
   ]
  },
  {
   "cell_type": "markdown",
   "metadata": {},
   "source": [
    "#### Assessing Model\n",
    "\n",
    "To assess our new model, we'll first infer new vectors for each document of the training corpus, compare the inferred vectors with the training corpus, and then returning the rank of the document based on self-similarity. Basically, we're pretending as if the training corpus is some new unseen data and then seeing how they compare with the trained model. The expectation is that we've likely overfit our model (i.e., all of the ranks will be less than 2) and so we should be able to find similar documents very easily. Additionally, we'll keep track of the second ranks for a comparison of less similar documents.\n"
   ]
  },
  {
   "cell_type": "code",
   "execution_count": null,
   "metadata": {},
   "outputs": [],
   "source": [
    "ranks = []\n",
    "second_ranks = []\n",
    "for doc_id in range(len(train_corpus)):\n",
    "    inferred_vector = model.infer_vector(train_corpus[doc_id].words)\n",
    "    sims = model.docvecs.most_similar([inferred_vector], topn=len(model.docvecs))\n",
    "    rank = [docid for docid, sim in sims].index(doc_id)\n",
    "    ranks.append(rank)\n",
    "    \n",
    "    second_ranks.append(sims[1])\n",
    "\n",
    "count_ranks = collections.Counter(ranks)  # Results vary due to random seeding and very small corpus"
   ]
  },
  {
   "cell_type": "code",
   "execution_count": null,
   "metadata": {},
   "outputs": [],
   "source": [
    "count_ranks[1469]"
   ]
  },
  {
   "cell_type": "markdown",
   "metadata": {},
   "source": [
    "Basically, greater than 95% of the inferred documents are found to be most similar to itself and about 5% of the time it is mistakenly most similar to another document. the checking of an inferred-vector against a training-vector is a sort of 'sanity check' as to whether the model is behaving in a usefully consistent manner, though not a real 'accuracy' value."
   ]
  },
  {
   "cell_type": "code",
   "execution_count": null,
   "metadata": {},
   "outputs": [],
   "source": [
    "print('Document ({}): «{}»\\n'.format(doc_id, ' '.join(train_corpus[doc_id].words)))\n",
    "print(u'SIMILAR/DISSIMILAR DOCS PER MODEL %s:\\n' % model)\n",
    "for label, index in [('MOST', 0), ('MEDIAN', len(sims)//2), ('LEAST', len(sims) - 1)]:\n",
    "    print(u'%s %s: «%s»\\n' % (label, sims[index], ' '.join(train_corpus[sims[index][0]].words)))"
   ]
  },
  {
   "cell_type": "code",
   "execution_count": null,
   "metadata": {},
   "outputs": [],
   "source": [
    "# Pick a random document from the test corpus and infer a vector from the model\n",
    "doc_id = random.randint(0, len(train_corpus))\n",
    "\n",
    "# Compare and print the most/median/least similar documents from the train corpus\n",
    "print('Train Document ({}): «{}»\\n'.format(doc_id, ' '.join(train_corpus[doc_id].words)))\n",
    "sim_id = second_ranks[doc_id]\n",
    "print('Similar Document {}: «{}»\\n'.format(sim_id, ' '.join(train_corpus[sim_id[0]].words)))"
   ]
  },
  {
   "cell_type": "markdown",
   "metadata": {},
   "source": [
    "#### Testing the model"
   ]
  },
  {
   "cell_type": "code",
   "execution_count": null,
   "metadata": {},
   "outputs": [],
   "source": [
    "# Pick a random document from the test corpus and infer a vector from the model\n",
    "doc_id = random.randint(0, len(test_corpus))\n",
    "inferred_vector = model.infer_vector(test_corpus[doc_id])\n",
    "sims = model.docvecs.most_similar([inferred_vector], topn=len(model.docvecs))\n",
    "\n",
    "# Compare and print the most/median/least similar documents from the train corpus\n",
    "print('Test Document ({}): «{}»\\n'.format(doc_id, ' '.join(test_corpus[doc_id])))\n",
    "print(u'SIMILAR/DISSIMILAR DOCS PER MODEL %s:\\n' % model)\n",
    "for label, index in [('MOST', 0), ('MEDIAN', len(sims)//2), ('LEAST', len(sims) - 1)]:\n",
    "    print(u'%s %s: «%s»\\n' % (label, sims[index], ' '.join(train_corpus[sims[index][0]].words)))"
   ]
  },
  {
   "cell_type": "markdown",
   "metadata": {},
   "source": [
    "## Step 8: Visualizing Complaints in Boston Map"
   ]
  },
  {
   "cell_type": "code",
   "execution_count": null,
   "metadata": {},
   "outputs": [],
   "source": [
    "df[['X','Y']].head()"
   ]
  },
  {
   "cell_type": "code",
   "execution_count": null,
   "metadata": {},
   "outputs": [],
   "source": [
    "import geopandas as gpd\n",
    "\n",
    "boros = gpd.GeoDataFrame.from_file('shapefile/Vision_Zero_Entry.shp')\n",
    "boros.plot()"
   ]
  },
  {
   "cell_type": "markdown",
   "metadata": {},
   "source": [
    "### Plot heatmap"
   ]
  },
  {
   "cell_type": "code",
   "execution_count": null,
   "metadata": {},
   "outputs": [],
   "source": [
    "def heatmap(d, bins=(100,100), smoothing=1.3, cmap='jet'):\n",
    "    def getx(pt):\n",
    "        return pt.coords[0][0]\n",
    "\n",
    "    def gety(pt):\n",
    "        return pt.coords[0][1]\n",
    "\n",
    "    x = list(d.geometry.apply(getx))\n",
    "    y = list(d.geometry.apply(gety))\n",
    "    heatmap, xedges, yedges = np.histogram2d(y, x, bins=bins)\n",
    "    extent = [yedges[0], yedges[-1], xedges[-1], xedges[0]]\n",
    "\n",
    "    logheatmap = np.log(heatmap)\n",
    "    logheatmap[np.isneginf(logheatmap)] = 0\n",
    "    logheatmap = ndimage.filters.gaussian_filter(logheatmap, smoothing, mode='nearest')\n",
    "    \n",
    "    plt.imshow(logheatmap, cmap=cmap, extent=extent)\n",
    "    plt.colorbar()\n",
    "    plt.gca().invert_yaxis()\n",
    "   http://localhost:8888/notebooks/Untitled.ipynb?kernel_name=python2# plt.show()"
   ]
  },
  {
   "cell_type": "markdown",
   "metadata": {},
   "source": [
    "Now we define the heatmap function which takes a GeoDataFrame with point geometries and shows a matplotlib plot of heatmap density. This is done using numpy's 2D histogram binning with smoothing from scipy."
   ]
  },
  {
   "cell_type": "code",
   "execution_count": null,
   "metadata": {},
   "outputs": [],
   "source": [
    "heatmap(boros, bins=50, smoothing=1.5)"
   ]
  }
 ],
 "metadata": {
  "kernelspec": {
   "display_name": "Python 2",
   "language": "python",
   "name": "python2"
  },
  "language_info": {
   "codemirror_mode": {
    "name": "ipython",
    "version": 2
   },
   "file_extension": ".py",
   "mimetype": "text/x-python",
   "name": "python",
   "nbconvert_exporter": "python",
   "pygments_lexer": "ipython2",
   "version": "2.7.14"
  }
 },
 "nbformat": 4,
 "nbformat_minor": 2
}
